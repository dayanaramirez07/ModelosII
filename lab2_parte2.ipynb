{
  "cells": [
    {
      "cell_type": "markdown",
      "metadata": {
        "id": "M43P7dzhofFJ"
      },
      "source": [
        "# Laboratorio 2 - Parte 2. Modelos no paramétricos - regresión\n",
        "\n"
      ]
    },
    {
      "cell_type": "code",
      "execution_count": 1,
      "metadata": {
        "colab": {
          "base_uri": "https://localhost:8080/",
          "height": 92
        },
        "id": "5VZzXVHloHDT",
        "outputId": "5db662fd-33de-485f-9837-ca4e4166ab7b"
      },
      "outputs": [
        {
          "output_type": "display_data",
          "data": {
            "text/plain": [
              "<IPython.core.display.HTML object>"
            ],
            "text/html": [
              "\n",
              "<meta name=\"google-signin-client_id\"\n",
              "      content=\"461673936472-kdjosv61up3ac1ajeuq6qqu72upilmls.apps.googleusercontent.com\"/>\n",
              "<script src=\"https://apis.google.com/js/client:platform.js?onload=google_button_start\"></script>\n",
              "    "
            ]
          },
          "metadata": {}
        },
        {
          "output_type": "stream",
          "name": "stdout",
          "text": [
            "replicating local resources\n",
            "replicating Labs resources\n"
          ]
        },
        {
          "output_type": "execute_result",
          "data": {
            "text/plain": [
              "<IPython.core.display.HTML object>"
            ],
            "text/html": [
              "<h3>See <a href='https://m5knaekxo6.execute-api.us-west-2.amazonaws.com/dev-v0001/rlxmooc/web/login' target='_blank'>my courses and progress</a></h2>"
            ]
          },
          "metadata": {},
          "execution_count": 1
        }
      ],
      "source": [
        "!wget -nc --no-cache -O init.py -q https://raw.githubusercontent.com/jdariasl/Intro_ML_2025/master/init.py\n",
        "import init; init.init(force_download=False); init.get_weblink()"
      ]
    },
    {
      "cell_type": "code",
      "execution_count": 36,
      "metadata": {
        "id": "QycC0GLqofFG",
        "tags": [],
        "colab": {
          "base_uri": "https://localhost:8080/",
          "height": 86,
          "referenced_widgets": [
            "5d4c4a56a7c9476ab229b6b09f504725",
            "f3c8378a65ff4496b495238c777019d2",
            "4def5b9eadee4dfe990db6183abf94fd",
            "ae638bb942cc4d63a368c740a120db5b",
            "662a52c2add640f7a0c6fbd34146d34b",
            "5c876d188a304a2a997578adc63e2ca8",
            "276b6f8d53874741b23f7991bd548b4c",
            "8d7b560b64304c069e299046a3b16ade",
            "895094f0f48e47529f06496a4c542677",
            "8ff3f50dde6d45aeb092e236204a6f37",
            "b91b60f1c7fa4249aa40fd9dc43d9db3",
            "d4323a53fa94470ba028c1c0a7b45103",
            "5127199407834d5b926fae5dc0af6445",
            "8a537acb763c4737a9e568b203f74edd",
            "dc13d40c7ac548bcbcacc89f29b75076",
            "e468f3f1e4124edc9a08933fcacf2c26",
            "42aaa12ccd6041df80b6189ed965434a",
            "ba176b01d31e42c48f8561de517c2334",
            "5ab1df696cd14d8a94353fa41ad27091"
          ]
        },
        "outputId": "9319e676-d30a-4c7d-94c5-879f9a300d4e"
      },
      "outputs": [
        {
          "output_type": "stream",
          "name": "stdout",
          "text": [
            "logging in as dayana.ramirez@udea.edu.co... please wait\n",
            "\n",
            "-------------\n",
            "using course session introml::udea.vir.20252\n",
            "success!! you are logged in\n",
            "-------------\n"
          ]
        }
      ],
      "source": [
        "from local.lib.rlxmoocapi import submit, session\n",
        "import inspect\n",
        "session.LoginSequence(endpoint=init.endpoint, course_id=init.course_id, lab_id=\"L02.02\", varname=\"student\");"
      ]
    },
    {
      "cell_type": "code",
      "execution_count": 3,
      "metadata": {
        "id": "2CCjs0a7oHDX"
      },
      "outputs": [],
      "source": [
        "#configuración del laboratorio\n",
        "# Ejecuta esta celda!\n",
        "from Labs.commons.utils.lab2 import *\n",
        "_, x, y = part_2()\n",
        "y = y.reshape(np.size(y), 1)"
      ]
    },
    {
      "cell_type": "markdown",
      "metadata": {
        "id": "Ajc7Wc5LofFJ"
      },
      "source": [
        "## Tarea 1: Exploración de datos\n",
        "\n",
        "Para el problema de regresion usaremos la base de datos 'The California Housing Dataset', cuya descripción [pueden encontrarla aqui](https://inria.github.io/scikit-learn-mooc/python_scripts/datasets_california_housing.html). La información ya esta cargada dentro del notebook"
      ]
    },
    {
      "cell_type": "code",
      "execution_count": 4,
      "metadata": {
        "colab": {
          "base_uri": "https://localhost:8080/"
        },
        "id": "LXhySCFiofFJ",
        "outputId": "65c37fd2-f7df-4d56-92af-9cff2f88d822"
      },
      "outputs": [
        {
          "output_type": "stream",
          "name": "stdout",
          "text": [
            "muestra de los 3 primeros renglones de x:\n",
            " [[ 8.32520000e+00  4.10000000e+01  6.98412698e+00  1.02380952e+00\n",
            "   3.22000000e+02  2.55555556e+00  3.78800000e+01 -1.22230000e+02]\n",
            " [ 8.30140000e+00  2.10000000e+01  6.23813708e+00  9.71880492e-01\n",
            "   2.40100000e+03  2.10984183e+00  3.78600000e+01 -1.22220000e+02]\n",
            " [ 7.25740000e+00  5.20000000e+01  8.28813559e+00  1.07344633e+00\n",
            "   4.96000000e+02  2.80225989e+00  3.78500000e+01 -1.22240000e+02]]\n",
            "muestra de los 3 primeros renglones de y:\n",
            " [[4.526]\n",
            " [3.585]\n",
            " [3.521]]\n",
            "Qué información nos brinda el resultado de esta instrucción? 20640\n",
            "Qué información nos brinda el resultado de esta instrucción? 8\n",
            "Qué información nos brinda el resultado de esta instrucción? 3842\n"
          ]
        }
      ],
      "source": [
        "print(\"muestra de los 3 primeros renglones de x:\\n\", x[0:3, :])\n",
        "print(\"muestra de los 3 primeros renglones de y:\\n\", y[0:3])\n",
        "print (\"Qué información nos brinda el resultado de esta instrucción?\", x.shape[0])\n",
        "print (\"Qué información nos brinda el resultado de esta instrucción?\", x.shape[1])\n",
        "print (\"Qué información nos brinda el resultado de esta instrucción?\", len(np.unique(y)))"
      ]
    },
    {
      "cell_type": "markdown",
      "metadata": {
        "id": "6OI7JJ-EofFL"
      },
      "source": [
        "En los problemas de regresión, es muy útil explorar la distribución de la variable objetivo. Nuestro primer ejercicio consiste en:\n",
        "1. visualizar un histograma de la variable. Vamos a realizar el histograma con 20 \"cajones\".\n",
        "2. Usar el histograma para confirmar como estan distribuidos los datos\n",
        "\n",
        "Pistas:\n",
        "1. explorar la documentación de [plt.hist](https://matplotlib.org/3.3.1/api/_as_gen/matplotlib.pyplot.hist.html). Maneje los valores por defecto.\n",
        "\n",
        "**NOTA**\n",
        "Se quiere incentivar la lecutra de la documentación de las librerías, se debe hacer llamado explícito al parámetro a usar. Ejemplo si se necesita usar el parámetro `density`, se debe llamar como `plt.hist(density=True ....)`"
      ]
    },
    {
      "cell_type": "code",
      "execution_count": 34,
      "metadata": {
        "id": "WbGGSk26ofFM"
      },
      "outputs": [],
      "source": [
        "#ejercicio de código\n",
        "def plot_hist_20(Y):\n",
        "    \"\"\"función que grafica el histograma de la variable 'Y'\n",
        "        teniendo como valor fijo 20 en el parámetro que controla\n",
        "        el número de \"cajones\"\n",
        "\n",
        "        No retorna nada\n",
        "    \"\"\"\n",
        "    import matplotlib.pyplot as plt\n",
        "    plt.hist(Y, bins=20)\n",
        "    plt.title('Histograma de la variable objetivo')\n",
        "    plt.xlabel('Valores de Y')\n",
        "    plt.ylabel('Frecuencia')\n",
        "\n",
        "\n",
        "    return"
      ]
    },
    {
      "cell_type": "markdown",
      "metadata": {
        "id": "vN1SpKjIoHDe"
      },
      "source": [
        "**Registra tu solución en línea**"
      ]
    },
    {
      "cell_type": "code",
      "execution_count": 37,
      "metadata": {
        "id": "6HWrZsxpofFN",
        "colab": {
          "base_uri": "https://localhost:8080/",
          "height": 146
        },
        "outputId": "8dabb034-2cec-4446-a639-ba16ee749cb3"
      },
      "outputs": [
        {
          "output_type": "display_data",
          "data": {
            "text/plain": [
              "<IPython.core.display.HTML object>"
            ],
            "text/html": [
              "\n",
              "                    <b>T1 submitted.</b> <b><font color=\"blue\">your grade is 5</font></b> \n",
              "                    <p/><pre>----- grader message -------</pre>Testing your code.<br/><br/><b>Bins Match</b> ✅<pre>----------------------------</pre>\n",
              "                    <p/><p/>\n",
              "                    <div style=\"font-size:10px\"><b>SUBMISSION CODE</b> ti880K37zY4+gj8waFsPFwxUpRBpTmCHIHSmDELKK14yJGhXs/1Lw/iaLWFDxfwzYr1AQmD9loDqLrN0jNrVU+fCJU6VTn8fNolkEvFWztJvf4ovdSfa0F+cqz4asyshAqCeudTntoC8hSBBd2/YLw==</div>\n",
              "                    "
            ]
          },
          "metadata": {}
        }
      ],
      "source": [
        "student.submit_task(namespace=globals(), task_id='T1');"
      ]
    },
    {
      "cell_type": "code",
      "execution_count": 7,
      "metadata": {
        "colab": {
          "base_uri": "https://localhost:8080/",
          "height": 890
        },
        "id": "GHpvs0gwofFP",
        "outputId": "6cedc202-da60-4fbc-a768-cc5b31ef1a04"
      },
      "outputs": [
        {
          "output_type": "display_data",
          "data": {
            "text/plain": [
              "<Figure size 640x480 with 1 Axes>"
            ],
            "image/png": "[encoded data removed]"
          },
          "metadata": {}
        },
        {
          "output_type": "display_data",
          "data": {
            "text/plain": [
              "<Figure size 640x480 with 1 Axes>"
            ],
            "image/png": "[encoded data removed]"
          },
          "metadata": {}
        }
      ],
      "source": [
        "# ver el histograma!\n",
        "plot_hist_20(y)\n",
        "# vamos realizar la representacion de la media y mediana\n",
        "plt.axvline(y.mean(), c = 'r')\n",
        "plt.axvline(np.median(y), c = 'k')\n",
        "plt.show()"
      ]
    },
    {
      "cell_type": "code",
      "execution_count": 38,
      "metadata": {
        "cellView": "form",
        "id": "-_f11sJfofFR"
      },
      "outputs": [],
      "source": [
        "#@title Pregunta Abierta\n",
        "#@markdown Evaluando **solo** el histograma, ¿qué tan bien representa la media de y a todo el posible rango de valores de la variable objetivo?\n",
        "respuesta = \"La media se ve afectada por los valores más altos y no representa tan bien el centro de la distribución como lo haría en una distribución simétrica.\" #@param {type:\"string\"}"
      ]
    },
    {
      "cell_type": "markdown",
      "metadata": {
        "id": "pz3slpbKofFT"
      },
      "source": [
        "## Tarea 2: K-Vecinos más cercanos para regresión.\n",
        "\n",
        "Vamos a implementar ahora el modelo KNN para un problema de regresión."
      ]
    },
    {
      "cell_type": "markdown",
      "metadata": {
        "id": "xiWMzkDGofFV"
      },
      "source": [
        "Las mismas pistas de nuestro laboratorio anterior son de utilidad para implementar el algoritmo.\n",
        "\n",
        "1. Para el cáculo de la distancia entre vectores existen varias opciones:\n",
        "    1. usar la función la distancia entre matrices `scipy.spatial.distance.cdist`([Ejemplo](https://docs.scipy.org/doc/scipy/reference/generated/scipy.spatial.distance.cdist.html#scipy.spatial.distance.cdist))--esta puede ser usada directamente como `cdist(...)`. Entiende la salida de esta función. Al usarla, se logra un rendimiento superior.\n",
        "    2. usar la función la distancia euclidiana `scipy.spatial.distance.euclidean`([Ejemplo](https://docs.scipy.org/doc/scipy/reference/generated/scipy.spatial.distance.euclidean.html))--pueder acceder a ella directamente como `euclidean`. Aca debe pensar en un algoritmo elemento a elemento, por lo tanto menos eficiente.\n",
        "2. También serán de utilidad las funciones `np.sort` y `np.argsort`.\n",
        "3. ¿Cuál es la única diferencia entre el knn para clasificación y regresión? en lugar de la moda, que metodo debemos usar?"
      ]
    },
    {
      "cell_type": "code",
      "execution_count": 8,
      "metadata": {
        "id": "rfkzbm94ofFV"
      },
      "outputs": [],
      "source": [
        "#ejercicio de código\n",
        "def knn_regresion(k, X_train, Y_train, X_test):\n",
        "    \"\"\" Función que implementa el modelo de K-Vecino mas cercanos\n",
        "        para regresión\n",
        "\n",
        "    k (int): valor de vecinos a usar\n",
        "    X_train: es la matriz con las muestras de entrenamiento\n",
        "    Y_train: es un vector con los valores de salida pra cada una de las muestras de entrenamiento\n",
        "    X_test: es la matriz con las muestras de validación\n",
        "\n",
        "    retorna: las estimaciones del modelo KNN para el conjunto X_test\n",
        "             esta matriz debe tener un shape de [row/muestras de X_test]\n",
        "             y las distancias de X_test respecto a X_train, estan matrix\n",
        "             debe tener un shape de [rows de X_test, rows X_train]\n",
        "             lo que es lo mismo [muestras de X_test, muestras de X_train]\n",
        "    \"\"\"\n",
        "\n",
        "    from scipy.spatial import distance\n",
        "\n",
        "    distancias = cdist(X_test, X_train, metric='euclidean')\n",
        "    vecinos_idx = np.argsort(distancias, axis=1)[:, :k]\n",
        "    Y_est = np.mean(Y_train[vecinos_idx], axis=1)\n",
        "\n",
        "    #Tener en cuenta que una implementación óptima no requiere ciclos for\n",
        "    return (Y_est, distancias)"
      ]
    },
    {
      "cell_type": "markdown",
      "metadata": {
        "id": "inmK7V8KoHDi"
      },
      "source": [
        "**Registra tu solución en línea**"
      ]
    },
    {
      "cell_type": "code",
      "execution_count": 9,
      "metadata": {
        "id": "22zTy1XHoHDi",
        "colab": {
          "base_uri": "https://localhost:8080/",
          "height": 111
        },
        "outputId": "bcfe9254-f088-4fbe-bb75-e49a1b2430cf"
      },
      "outputs": [
        {
          "output_type": "display_data",
          "data": {
            "text/plain": [
              "<IPython.core.display.HTML object>"
            ],
            "text/html": [
              "\n",
              "                    <b>T2 submitted.</b> <b><font color=\"blue\">your grade is 5</font></b> \n",
              "                    <p/><pre>----- grader message -------</pre><b>correct</b> ✅<pre>----------------------------</pre>\n",
              "                    <p/><p/>\n",
              "                    <div style=\"font-size:10px\"><b>SUBMISSION CODE</b> zFfQBqyuUtsIeNF769QN+ngI2a7IVtNQcWsVy2QwP8JhG71OjhnMOQbRzGlO/3fNXrNPBhcq4QqgxPQTyNPqnQSuv+s6ijlzssMuFNrOszbl2nizKlKfy5EYtymHLCbcZ11dwNGa5tmuBAayVltxPg==</div>\n",
              "                    "
            ]
          },
          "metadata": {}
        }
      ],
      "source": [
        "student.submit_task(namespace=globals(), task_id='T2');"
      ]
    },
    {
      "cell_type": "markdown",
      "metadata": {
        "id": "QC8-3Q0qofFY"
      },
      "source": [
        "## Tarea 3: Evaluar modelo K-Vecinos\n",
        "\n",
        "Ahora vamos a probar nuestro algoritmo. Antes de ello, definos la función para calcular el error"
      ]
    },
    {
      "cell_type": "code",
      "execution_count": 12,
      "metadata": {
        "id": "YExvJ6zqofFZ"
      },
      "outputs": [],
      "source": [
        "def MAPE(Y_est,Y):\n",
        "    \"\"\"Mean Absolute Percentage Error para los problemas de regresión\n",
        "    Y_est: numpy array con los valores estimados\n",
        "    Y: numpy array con las etiquetas verdaderas\n",
        "    retorna: mape\n",
        "    \"\"\"\n",
        "    N = np.size(Y)\n",
        "    epsilon = 1e-10  # Pequeño valor para evitar división por cero\n",
        "    mape = np.sum(abs((Y_est.reshape(N, 1) - Y.reshape(N, 1)) / (Y.reshape(N, 1) + epsilon))) / N\n",
        "    return mape"
      ]
    },
    {
      "cell_type": "markdown",
      "metadata": {
        "id": "RC5fF9WnofFa"
      },
      "source": [
        "Vamos a crear la función para experimentar.\n",
        "\n",
        "En el ejercicio de código, se puede observar que usamos nuevamente la funciónes de la libreria **sklearn**:\n",
        "\n",
        "1. [StandardScaler](https://scikit-learn.org/stable/modules/generated/sklearn.preprocessing.StandardScaler.html) para normalizar.\n",
        "\n",
        "2. [train_test_split](https://scikit-learn.org/stable/modules/generated/sklearn.model_selection.train_test_split.html). Para dividir el conjunto de datos. Entiende como estamos usando esta función y completa el codigo para realizar 5 particiones."
      ]
    },
    {
      "cell_type": "code",
      "execution_count": 10,
      "metadata": {
        "id": "cftNVbm-ofFc"
      },
      "outputs": [],
      "source": [
        "#Ejercicio de código\n",
        "def experimentar (ks, X, Y):\n",
        "    \"\"\"Función que realiza los experimentos con knn usando\n",
        "       una estrategia de validacion entrenamiento y pruebas\n",
        "\n",
        "    ks: List[int/float] lista con los valores de k-vecinos a usar\n",
        "    X: matriz de numpy conjunto con muestras y caracteristicas\n",
        "    Y: vector de numpy con los valores a predecir\n",
        "    retorna: dataframe con los resultados, debe contener las siguientes columnas:\n",
        "        - los k-vecinos, el error-mape medio de prueba, la desviacion estandar del error-mape\n",
        "    \"\"\"\n",
        "\n",
        "    resultados = pd.DataFrame()\n",
        "    idx = 0\n",
        "    # iteramos sobre la lista de k's\n",
        "    for k in ks:\n",
        "\n",
        "        # iteramos para validar\n",
        "        # sobre las particiones\n",
        "        # ¿que numero debemos asignar para lograr las particiones?\n",
        "        for j in range(5):\n",
        "            # dividimos usando la función\n",
        "            Xtrain, Xtest, Ytrain, Ytest = train_test_split(X, Y, test_size=0.2, random_state=j)\n",
        "            scaler = StandardScaler()\n",
        "            scaler.fit(Xtrain)\n",
        "            Xtrain= scaler.transform(Xtrain)\n",
        "            Xtest = scaler.transform(Xtest)\n",
        "\n",
        "            Yest, _ = knn_regresion(k, Xtrain, Ytrain, Xtest)\n",
        "            errorTest = MAPE(Yest, Ytest)\n",
        "\n",
        "            resultados.loc[idx,'k-vecinos'] = k\n",
        "            resultados.loc[idx,'error de prueba'] = errorTest\n",
        "            #asignamos la particion\n",
        "            resultados.loc[idx, 'particion'] = j\n",
        "            idx+=1\n",
        "\n",
        "    return (resultados)"
      ]
    },
    {
      "cell_type": "markdown",
      "metadata": {
        "id": "wIYAW5aXoHDm"
      },
      "source": [
        "**Registra tu solución en línea**"
      ]
    },
    {
      "cell_type": "code",
      "execution_count": 13,
      "metadata": {
        "id": "_T29MukNoHDm",
        "colab": {
          "base_uri": "https://localhost:8080/",
          "height": 128
        },
        "outputId": "fa3ed51c-b7ae-45ad-a5d5-3f73cabf7496"
      },
      "outputs": [
        {
          "output_type": "display_data",
          "data": {
            "text/plain": [
              "<IPython.core.display.HTML object>"
            ],
            "text/html": [
              "\n",
              "                    <b>T3 submitted.</b> <b><font color=\"blue\">your grade is 5</font></b> \n",
              "                    <p/><pre>----- grader message -------</pre>testing your code with random data points<br/>\n",
              "<b>correct</b> ✅<pre>----------------------------</pre>\n",
              "                    <p/><p/>\n",
              "                    <div style=\"font-size:10px\"><b>SUBMISSION CODE</b> 2t0Gdu+K6zgc5LlV3QOiM1Omd/XIuYjmDILIfQD24mJn2rpkOacgY+ypWLDkGuQLUgl3MLXHQq/bDYmWXwhH2SZ+yJbAu8RddFa7Ml1iCyF3P1Y/O7VFTz8D8WbNyw+EOfl3kb/6iSIhVZCr8zhsNQ==</div>\n",
              "                    "
            ]
          },
          "metadata": {}
        }
      ],
      "source": [
        "student.submit_task(namespace=globals(), task_id='T3');"
      ]
    },
    {
      "cell_type": "markdown",
      "metadata": {
        "id": "ZgvhQRfWofFg"
      },
      "source": [
        "Ahora ejecuta los experimentos con k = 2,3,4"
      ]
    },
    {
      "cell_type": "code",
      "execution_count": 14,
      "metadata": {
        "colab": {
          "base_uri": "https://localhost:8080/",
          "height": 520
        },
        "id": "H-BTxFYwofFg",
        "outputId": "1e4172e4-dfd1-4eb7-c203-193df86daa91"
      },
      "outputs": [
        {
          "output_type": "execute_result",
          "data": {
            "text/plain": [
              "    k-vecinos  error de prueba  particion\n",
              "0         2.0         0.255543        0.0\n",
              "1         2.0         0.262266        1.0\n",
              "2         2.0         0.257779        2.0\n",
              "3         2.0         0.253148        3.0\n",
              "4         2.0         0.256562        4.0\n",
              "5         3.0         0.243795        0.0\n",
              "6         3.0         0.247859        1.0\n",
              "7         3.0         0.247124        2.0\n",
              "8         3.0         0.245474        3.0\n",
              "9         3.0         0.245114        4.0\n",
              "10        4.0         0.238647        0.0\n",
              "11        4.0         0.247415        1.0\n",
              "12        4.0         0.243853        2.0\n",
              "13        4.0         0.239996        3.0\n",
              "14        4.0         0.238858        4.0"
            ],
            "text/html": [
              "\n",
              "  <div id=\"df-fa0c0f1d-b432-4223-bc7d-673d6823b422\" class=\"colab-df-container\">\n",
              "    <div>\n",
              "<style scoped>\n",
              "    .dataframe tbody tr th:only-of-type {\n",
              "        vertical-align: middle;\n",
              "    }\n",
              "\n",
              "    .dataframe tbody tr th {\n",
              "        vertical-align: top;\n",
              "    }\n",
              "\n",
              "    .dataframe thead th {\n",
              "        text-align: right;\n",
              "    }\n",
              "</style>\n",
              "<table border=\"1\" class=\"dataframe\">\n",
              "  <thead>\n",
              "    <tr style=\"text-align: right;\">\n",
              "      <th></th>\n",
              "      <th>k-vecinos</th>\n",
              "      <th>error de prueba</th>\n",
              "      <th>particion</th>\n",
              "    </tr>\n",
              "  </thead>\n",
              "  <tbody>\n",
              "    <tr>\n",
              "      <th>0</th>\n",
              "      <td>2.0</td>\n",
              "      <td>0.255543</td>\n",
              "      <td>0.0</td>\n",
              "    </tr>\n",
              "    <tr>\n",
              "      <th>1</th>\n",
              "      <td>2.0</td>\n",
              "      <td>0.262266</td>\n",
              "      <td>1.0</td>\n",
              "    </tr>\n",
              "    <tr>\n",
              "      <th>2</th>\n",
              "      <td>2.0</td>\n",
              "      <td>0.257779</td>\n",
              "      <td>2.0</td>\n",
              "    </tr>\n",
              "    <tr>\n",
              "      <th>3</th>\n",
              "      <td>2.0</td>\n",
              "      <td>0.253148</td>\n",
              "      <td>3.0</td>\n",
              "    </tr>\n",
              "    <tr>\n",
              "      <th>4</th>\n",
              "      <td>2.0</td>\n",
              "      <td>0.256562</td>\n",
              "      <td>4.0</td>\n",
              "    </tr>\n",
              "    <tr>\n",
              "      <th>5</th>\n",
              "      <td>3.0</td>\n",
              "      <td>0.243795</td>\n",
              "      <td>0.0</td>\n",
              "    </tr>\n",
              "    <tr>\n",
              "      <th>6</th>\n",
              "      <td>3.0</td>\n",
              "      <td>0.247859</td>\n",
              "      <td>1.0</td>\n",
              "    </tr>\n",
              "    <tr>\n",
              "      <th>7</th>\n",
              "      <td>3.0</td>\n",
              "      <td>0.247124</td>\n",
              "      <td>2.0</td>\n",
              "    </tr>\n",
              "    <tr>\n",
              "      <th>8</th>\n",
              "      <td>3.0</td>\n",
              "      <td>0.245474</td>\n",
              "      <td>3.0</td>\n",
              "    </tr>\n",
              "    <tr>\n",
              "      <th>9</th>\n",
              "      <td>3.0</td>\n",
              "      <td>0.245114</td>\n",
              "      <td>4.0</td>\n",
              "    </tr>\n",
              "    <tr>\n",
              "      <th>10</th>\n",
              "      <td>4.0</td>\n",
              "      <td>0.238647</td>\n",
              "      <td>0.0</td>\n",
              "    </tr>\n",
              "    <tr>\n",
              "      <th>11</th>\n",
              "      <td>4.0</td>\n",
              "      <td>0.247415</td>\n",
              "      <td>1.0</td>\n",
              "    </tr>\n",
              "    <tr>\n",
              "      <th>12</th>\n",
              "      <td>4.0</td>\n",
              "      <td>0.243853</td>\n",
              "      <td>2.0</td>\n",
              "    </tr>\n",
              "    <tr>\n",
              "      <th>13</th>\n",
              "      <td>4.0</td>\n",
              "      <td>0.239996</td>\n",
              "      <td>3.0</td>\n",
              "    </tr>\n",
              "    <tr>\n",
              "      <th>14</th>\n",
              "      <td>4.0</td>\n",
              "      <td>0.238858</td>\n",
              "      <td>4.0</td>\n",
              "    </tr>\n",
              "  </tbody>\n",
              "</table>\n",
              "</div>\n",
              "    <div class=\"colab-df-buttons\">\n",
              "\n",
              "  <div class=\"colab-df-container\">\n",
              "    <button class=\"colab-df-convert\" onclick=\"convertToInteractive('df-fa0c0f1d-b432-4223-bc7d-673d6823b422')\"\n",
              "            title=\"Convert this dataframe to an interactive table.\"\n",
              "            style=\"display:none;\">\n",
              "\n",
              "  <svg xmlns=\"http://www.w3.org/2000/svg\" height=\"24px\" viewBox=\"0 -960 960 960\">\n",
              "    <path d=\"M120-120v-720h720v720H120Zm60-500h600v-160H180v160Zm220 220h160v-160H400v160Zm0 220h160v-160H400v160ZM180-400h160v-160H180v160Zm440 0h160v-160H620v160ZM180-180h160v-160H180v160Zm440 0h160v-160H620v160Z\"/>\n",
              "  </svg>\n",
              "    </button>\n",
              "\n",
              "  <style>\n",
              "    .colab-df-container {\n",
              "      display:flex;\n",
              "      gap: 12px;\n",
              "    }\n",
              "\n",
              "    .colab-df-convert {\n",
              "      background-color: #E8F0FE;\n",
              "      border: none;\n",
              "      border-radius: 50%;\n",
              "      cursor: pointer;\n",
              "      display: none;\n",
              "      fill: #1967D2;\n",
              "      height: 32px;\n",
              "      padding: 0 0 0 0;\n",
              "      width: 32px;\n",
              "    }\n",
              "\n",
              "    .colab-df-convert:hover {\n",
              "      background-color: #E2EBFA;\n",
              "      box-shadow: 0px 1px 2px rgba(60, 64, 67, 0.3), 0px 1px 3px 1px rgba(60, 64, 67, 0.15);\n",
              "      fill: #174EA6;\n",
              "    }\n",
              "\n",
              "    .colab-df-buttons div {\n",
              "      margin-bottom: 4px;\n",
              "    }\n",
              "\n",
              "    [theme=dark] .colab-df-convert {\n",
              "      background-color: #3B4455;\n",
              "      fill: #D2E3FC;\n",
              "    }\n",
              "\n",
              "    [theme=dark] .colab-df-convert:hover {\n",
              "      background-color: #434B5C;\n",
              "      box-shadow: 0px 1px 3px 1px rgba(0, 0, 0, 0.15);\n",
              "      filter: drop-shadow(0px 1px 2px rgba(0, 0, 0, 0.3));\n",
              "      fill: #FFFFFF;\n",
              "    }\n",
              "  </style>\n",
              "\n",
              "    <script>\n",
              "      const buttonEl =\n",
              "        document.querySelector('#df-fa0c0f1d-b432-4223-bc7d-673d6823b422 button.colab-df-convert');\n",
              "      buttonEl.style.display =\n",
              "        google.colab.kernel.accessAllowed ? 'block' : 'none';\n",
              "\n",
              "      async function convertToInteractive(key) {\n",
              "        const element = document.querySelector('#df-fa0c0f1d-b432-4223-bc7d-673d6823b422');\n",
              "        const dataTable =\n",
              "          await google.colab.kernel.invokeFunction('convertToInteractive',\n",
              "                                                    [key], {});\n",
              "        if (!dataTable) return;\n",
              "\n",
              "        const docLinkHtml = 'Like what you see? Visit the ' +\n",
              "          '<a target=\"_blank\" href=https://colab.research.google.com/notebooks/data_table.ipynb>data table notebook</a>'\n",
              "          + ' to learn more about interactive tables.';\n",
              "        element.innerHTML = '';\n",
              "        dataTable['output_type'] = 'display_data';\n",
              "        await google.colab.output.renderOutput(dataTable, element);\n",
              "        const docLink = document.createElement('div');\n",
              "        docLink.innerHTML = docLinkHtml;\n",
              "        element.appendChild(docLink);\n",
              "      }\n",
              "    </script>\n",
              "  </div>\n",
              "\n",
              "\n",
              "    <div id=\"df-30176830-b594-40ac-8400-931d9e394004\">\n",
              "      <button class=\"colab-df-quickchart\" onclick=\"quickchart('df-30176830-b594-40ac-8400-931d9e394004')\"\n",
              "                title=\"Suggest charts\"\n",
              "                style=\"display:none;\">\n",
              "\n",
              "<svg xmlns=\"http://www.w3.org/2000/svg\" height=\"24px\"viewBox=\"0 0 24 24\"\n",
              "     width=\"24px\">\n",
              "    <g>\n",
              "        <path d=\"M19 3H5c-1.1 0-2 .9-2 2v14c0 1.1.9 2 2 2h14c1.1 0 2-.9 2-2V5c0-1.1-.9-2-2-2zM9 17H7v-7h2v7zm4 0h-2V7h2v10zm4 0h-2v-4h2v4z\"/>\n",
              "    </g>\n",
              "</svg>\n",
              "      </button>\n",
              "\n",
              "<style>\n",
              "  .colab-df-quickchart {\n",
              "      --bg-color: #E8F0FE;\n",
              "      --fill-color: #1967D2;\n",
              "      --hover-bg-color: #E2EBFA;\n",
              "      --hover-fill-color: #174EA6;\n",
              "      --disabled-fill-color: #AAA;\n",
              "      --disabled-bg-color: #DDD;\n",
              "  }\n",
              "\n",
              "  [theme=dark] .colab-df-quickchart {\n",
              "      --bg-color: #3B4455;\n",
              "      --fill-color: #D2E3FC;\n",
              "      --hover-bg-color: #434B5C;\n",
              "      --hover-fill-color: #FFFFFF;\n",
              "      --disabled-bg-color: #3B4455;\n",
              "      --disabled-fill-color: #666;\n",
              "  }\n",
              "\n",
              "  .colab-df-quickchart {\n",
              "    background-color: var(--bg-color);\n",
              "    border: none;\n",
              "    border-radius: 50%;\n",
              "    cursor: pointer;\n",
              "    display: none;\n",
              "    fill: var(--fill-color);\n",
              "    height: 32px;\n",
              "    padding: 0;\n",
              "    width: 32px;\n",
              "  }\n",
              "\n",
              "  .colab-df-quickchart:hover {\n",
              "    background-color: var(--hover-bg-color);\n",
              "    box-shadow: 0 1px 2px rgba(60, 64, 67, 0.3), 0 1px 3px 1px rgba(60, 64, 67, 0.15);\n",
              "    fill: var(--button-hover-fill-color);\n",
              "  }\n",
              "\n",
              "  .colab-df-quickchart-complete:disabled,\n",
              "  .colab-df-quickchart-complete:disabled:hover {\n",
              "    background-color: var(--disabled-bg-color);\n",
              "    fill: var(--disabled-fill-color);\n",
              "    box-shadow: none;\n",
              "  }\n",
              "\n",
              "  .colab-df-spinner {\n",
              "    border: 2px solid var(--fill-color);\n",
              "    border-color: transparent;\n",
              "    border-bottom-color: var(--fill-color);\n",
              "    animation:\n",
              "      spin 1s steps(1) infinite;\n",
              "  }\n",
              "\n",
              "  @keyframes spin {\n",
              "    0% {\n",
              "      border-color: transparent;\n",
              "      border-bottom-color: var(--fill-color);\n",
              "      border-left-color: var(--fill-color);\n",
              "    }\n",
              "    20% {\n",
              "      border-color: transparent;\n",
              "      border-left-color: var(--fill-color);\n",
              "      border-top-color: var(--fill-color);\n",
              "    }\n",
              "    30% {\n",
              "      border-color: transparent;\n",
              "      border-left-color: var(--fill-color);\n",
              "      border-top-color: var(--fill-color);\n",
              "      border-right-color: var(--fill-color);\n",
              "    }\n",
              "    40% {\n",
              "      border-color: transparent;\n",
              "      border-right-color: var(--fill-color);\n",
              "      border-top-color: var(--fill-color);\n",
              "    }\n",
              "    60% {\n",
              "      border-color: transparent;\n",
              "      border-right-color: var(--fill-color);\n",
              "    }\n",
              "    80% {\n",
              "      border-color: transparent;\n",
              "      border-right-color: var(--fill-color);\n",
              "      border-bottom-color: var(--fill-color);\n",
              "    }\n",
              "    90% {\n",
              "      border-color: transparent;\n",
              "      border-bottom-color: var(--fill-color);\n",
              "    }\n",
              "  }\n",
              "</style>\n",
              "\n",
              "      <script>\n",
              "        async function quickchart(key) {\n",
              "          const quickchartButtonEl =\n",
              "            document.querySelector('#' + key + ' button');\n",
              "          quickchartButtonEl.disabled = true;  // To prevent multiple clicks.\n",
              "          quickchartButtonEl.classList.add('colab-df-spinner');\n",
              "          try {\n",
              "            const charts = await google.colab.kernel.invokeFunction(\n",
              "                'suggestCharts', [key], {});\n",
              "          } catch (error) {\n",
              "            console.error('Error during call to suggestCharts:', error);\n",
              "          }\n",
              "          quickchartButtonEl.classList.remove('colab-df-spinner');\n",
              "          quickchartButtonEl.classList.add('colab-df-quickchart-complete');\n",
              "        }\n",
              "        (() => {\n",
              "          let quickchartButtonEl =\n",
              "            document.querySelector('#df-30176830-b594-40ac-8400-931d9e394004 button');\n",
              "          quickchartButtonEl.style.display =\n",
              "            google.colab.kernel.accessAllowed ? 'block' : 'none';\n",
              "        })();\n",
              "      </script>\n",
              "    </div>\n",
              "\n",
              "  <div id=\"id_101d8fb4-98ce-4b9b-9aef-9372c3e018a5\">\n",
              "    <style>\n",
              "      .colab-df-generate {\n",
              "        background-color: #E8F0FE;\n",
              "        border: none;\n",
              "        border-radius: 50%;\n",
              "        cursor: pointer;\n",
              "        display: none;\n",
              "        fill: #1967D2;\n",
              "        height: 32px;\n",
              "        padding: 0 0 0 0;\n",
              "        width: 32px;\n",
              "      }\n",
              "\n",
              "      .colab-df-generate:hover {\n",
              "        background-color: #E2EBFA;\n",
              "        box-shadow: 0px 1px 2px rgba(60, 64, 67, 0.3), 0px 1px 3px 1px rgba(60, 64, 67, 0.15);\n",
              "        fill: #174EA6;\n",
              "      }\n",
              "\n",
              "      [theme=dark] .colab-df-generate {\n",
              "        background-color: #3B4455;\n",
              "        fill: #D2E3FC;\n",
              "      }\n",
              "\n",
              "      [theme=dark] .colab-df-generate:hover {\n",
              "        background-color: #434B5C;\n",
              "        box-shadow: 0px 1px 3px 1px rgba(0, 0, 0, 0.15);\n",
              "        filter: drop-shadow(0px 1px 2px rgba(0, 0, 0, 0.3));\n",
              "        fill: #FFFFFF;\n",
              "      }\n",
              "    </style>\n",
              "    <button class=\"colab-df-generate\" onclick=\"generateWithVariable('resultados')\"\n",
              "            title=\"Generate code using this dataframe.\"\n",
              "            style=\"display:none;\">\n",
              "\n",
              "  <svg xmlns=\"http://www.w3.org/2000/svg\" height=\"24px\"viewBox=\"0 0 24 24\"\n",
              "       width=\"24px\">\n",
              "    <path d=\"M7,19H8.4L18.45,9,17,7.55,7,17.6ZM5,21V16.75L18.45,3.32a2,2,0,0,1,2.83,0l1.4,1.43a1.91,1.91,0,0,1,.58,1.4,1.91,1.91,0,0,1-.58,1.4L9.25,21ZM18.45,9,17,7.55Zm-12,3A5.31,5.31,0,0,0,4.9,8.1,5.31,5.31,0,0,0,1,6.5,5.31,5.31,0,0,0,4.9,4.9,5.31,5.31,0,0,0,6.5,1,5.31,5.31,0,0,0,8.1,4.9,5.31,5.31,0,0,0,12,6.5,5.46,5.46,0,0,0,6.5,12Z\"/>\n",
              "  </svg>\n",
              "    </button>\n",
              "    <script>\n",
              "      (() => {\n",
              "      const buttonEl =\n",
              "        document.querySelector('#id_101d8fb4-98ce-4b9b-9aef-9372c3e018a5 button.colab-df-generate');\n",
              "      buttonEl.style.display =\n",
              "        google.colab.kernel.accessAllowed ? 'block' : 'none';\n",
              "\n",
              "      buttonEl.onclick = () => {\n",
              "        google.colab.notebook.generateWithVariable('resultados');\n",
              "      }\n",
              "      })();\n",
              "    </script>\n",
              "  </div>\n",
              "\n",
              "    </div>\n",
              "  </div>\n"
            ],
            "application/vnd.google.colaboratory.intrinsic+json": {
              "type": "dataframe",
              "variable_name": "resultados",
              "summary": "{\n  \"name\": \"resultados\",\n  \"rows\": 15,\n  \"fields\": [\n    {\n      \"column\": \"k-vecinos\",\n      \"properties\": {\n        \"dtype\": \"number\",\n        \"std\": 0.8451542547285166,\n        \"min\": 2.0,\n        \"max\": 4.0,\n        \"num_unique_values\": 3,\n        \"samples\": [\n          2.0,\n          3.0,\n          4.0\n        ],\n        \"semantic_type\": \"\",\n        \"description\": \"\"\n      }\n    },\n    {\n      \"column\": \"error de prueba\",\n      \"properties\": {\n        \"dtype\": \"number\",\n        \"std\": 0.007274730614659026,\n        \"min\": 0.2386468456205358,\n        \"max\": 0.26226579048128124,\n        \"num_unique_values\": 15,\n        \"samples\": [\n          0.24511362659860858,\n          0.2474150637277933,\n          0.2555426359886093\n        ],\n        \"semantic_type\": \"\",\n        \"description\": \"\"\n      }\n    },\n    {\n      \"column\": \"particion\",\n      \"properties\": {\n        \"dtype\": \"number\",\n        \"std\": 1.4638501094227998,\n        \"min\": 0.0,\n        \"max\": 4.0,\n        \"num_unique_values\": 5,\n        \"samples\": [\n          1.0,\n          4.0,\n          2.0\n        ],\n        \"semantic_type\": \"\",\n        \"description\": \"\"\n      }\n    }\n  ]\n}"
            }
          },
          "metadata": {},
          "execution_count": 14
        }
      ],
      "source": [
        "resultados = experimentar ([2,3,4], x, y)\n",
        "resultados"
      ]
    },
    {
      "cell_type": "markdown",
      "metadata": {
        "id": "bEjPQXT4ofFi"
      },
      "source": [
        "## Tarea 4: Ventana de Parzen\n",
        "\n",
        "Ahora, igualmente, vamos aplicar ventana de parzen para resolver el problema de regresión.\n",
        "\n",
        "$$f({\\bf{x}}^*) = \\frac{1}{N h^d} \\sum_{i=1}^{N} K(u_i), \\;\\; u_i = \\frac{d({\\bf{x}}^*,{\\bf{x}}_i)}{h}$$\n",
        "\n",
        "En la siguiente celda se define la función para un $K(u_i)$ gaussiano y se realiza la sugerencia para estimar el termino $ \\sum_{i=1}^{N} K(u_i)$, siendo $\\;\\; u_i = \\frac{d({\\bf{x}}^*,{\\bf{x}}_i)}{h}$.\n",
        "\n",
        "Observa y entiende esta última función y sus argumentos. Recordando que para regresión, debemos usar la relación de **Nadaraya_Watson**.\n",
        "\n",
        "$$y^* = \\frac{\\sum_{i=1}^N K(u_i)y_i}{\\sum_{i=1}^N K(u_i)} $$\n",
        "\n"
      ]
    },
    {
      "cell_type": "code",
      "execution_count": 15,
      "metadata": {
        "id": "EX4aOnYqofFi"
      },
      "outputs": [],
      "source": [
        "def kernel_gaussiano(x):\n",
        "    return (np.exp((-0.5)*x**2))\n",
        "\n",
        "def ParzenWindow(x,Data,h,Datay=None):\n",
        "    from scipy.spatial.distance import euclidean\n",
        "    \"\"\"\"ventana de parzen\n",
        "    x: vector con representando una sola muestra\n",
        "    Data: vector de muestras de entrenamiento\n",
        "    h: ancho de la ventana de kernel\n",
        "    Datay: vector con los valores de salida (y), Si no se pasa como argumento,\n",
        "        se calcula un ventana de parzen sin multiplicar los valores de este vector.\n",
        "    retorna: el valor de ventana de parzen para una muestra\n",
        "    \"\"\"\n",
        "    h = h\n",
        "    Ns = Data.shape[0]\n",
        "    suma = 0\n",
        "    for k in range(Ns):\n",
        "        u = euclidean(x,Data[k,:])\n",
        "        if Datay is None:\n",
        "            suma += kernel_gaussiano(u/h)\n",
        "        else:\n",
        "            suma += kernel_gaussiano(u/h)*Datay[k]\n",
        "    return suma\n"
      ]
    },
    {
      "cell_type": "markdown",
      "metadata": {
        "id": "3qO9mH5lofFk"
      },
      "source": [
        "Usando las anteriores funciones, completa el código."
      ]
    },
    {
      "cell_type": "code",
      "execution_count": 29,
      "metadata": {
        "id": "GNiUQcL2ofFk"
      },
      "outputs": [],
      "source": [
        "#Ejercicio de código\n",
        "def Nadaraya_Watson(h, X_train, Y_train, X_test):\n",
        "    \"\"\" Función que implementa metodo de ventana de parzen para\n",
        "        para clasificación\n",
        "\n",
        "    h (float): ancho de h de la ventana\n",
        "    X_train: es la matriz con las muestras de entrenamiento\n",
        "    Y_train: es un vector con los valores de salida pra cada una de las muestras de entrenamiento\n",
        "    X_test: es la matriz con las muestras de validación\n",
        "\n",
        "    retorna: - las estimaciones del modelo parzen para el conjunto X_test\n",
        "              esta matriz debe tener un shape de [row/muestras de X_test]\n",
        "    \"\"\"\n",
        "\n",
        "    Yest = np.zeros(X_test.shape[0])\n",
        "    for i in range(X_test.shape[0]):\n",
        "        numerator = ParzenWindow(X_test[i,:], X_train, h, Y_train)\n",
        "        denominator = ParzenWindow(X_test[i,:], X_train, h)\n",
        "        Yest[i] = numerator / (denominator + 1e-10)\n",
        "\n",
        "\n",
        "    #Debe retornar un vector que contenga las predicciones para cada una de las muestras en X_val, en el mismo orden.\n",
        "    #Tener en cuenta que una implementación óptima no requiere ciclos for\n",
        "    return Yest"
      ]
    },
    {
      "cell_type": "markdown",
      "metadata": {
        "id": "YiumtQpGoHDp"
      },
      "source": [
        "**Registra tu solución en línea**"
      ]
    },
    {
      "cell_type": "code",
      "execution_count": 30,
      "metadata": {
        "id": "2QQnK16WoHDq",
        "colab": {
          "base_uri": "https://localhost:8080/",
          "height": 128
        },
        "outputId": "1b9979a8-b33f-49e5-ee7f-cbee16cbe614"
      },
      "outputs": [
        {
          "output_type": "display_data",
          "data": {
            "text/plain": [
              "<IPython.core.display.HTML object>"
            ],
            "text/html": [
              "\n",
              "                    <b>T4 submitted.</b> <b><font color=\"blue\">your grade is 5</font></b> \n",
              "                    <p/><pre>----- grader message -------</pre>testing your code with random data points<br/>\n",
              "<b>Correct</b> ✅<pre>----------------------------</pre>\n",
              "                    <p/><p/>\n",
              "                    <div style=\"font-size:10px\"><b>SUBMISSION CODE</b> kWUE6RFuuAkCYoAwJ5EpxgbHvSv0crTT5trSnM+6n4S8kGLSfz8+DzAv4ibEG3aInAnWvWldndZbWE6VkDDBEjNnsz08b+Bu1d9b6wmySx0ZdyVfb0qYj3+omG5KbeD1tnxaWgghTYFqLl6GdMV/oQ==</div>\n",
              "                    "
            ]
          },
          "metadata": {}
        }
      ],
      "source": [
        "student.submit_task(namespace=globals(), task_id='T4');"
      ]
    },
    {
      "cell_type": "markdown",
      "metadata": {
        "id": "cIUuf3KJofFp"
      },
      "source": [
        "## Tarea 5: Experimentos con Parzen\n",
        "En el ejercicio de código, se puede observar que usamos nuevamente la funciónes de la libreria **sklearn**:\n",
        "\n",
        "1. [StandardScaler](https://scikit-learn.org/stable/modules/generated/sklearn.preprocessing.StandardScaler.html) para normalizar.\n",
        "2. Y se debe usar la función [KFold](https://scikit-learn.org/stable/modules/generated/sklearn.model_selection.KFold.html?highlight=kfold#sklearn.model_selection.KFold) para realizar la validación. Tener en cuenta la documentación para poder completar el código de manera correcta y usar 3 particiones."
      ]
    },
    {
      "cell_type": "code",
      "execution_count": 31,
      "metadata": {
        "id": "_wbPuUi3ofFr"
      },
      "outputs": [],
      "source": [
        "def experimentarParzen (hs, X, Y):\n",
        "    \"\"\"Función que realiza los experimentos con knn usando\n",
        "       una estrategia de validacion entrenamiento y pruebas\n",
        "\n",
        "    hs: List[int/float] lista con los valores de h a usar\n",
        "    X: matriz de numpy conjunto con muestras y caracteristicas\n",
        "    Y: vector de numpy con los valores de las etiquetas\n",
        "\n",
        "    retorna: dataframe con los resultados, debe contener las siguientes columnas:\n",
        "        - el ancho de ventana,\n",
        "        - el error medio de prueba\n",
        "        - la desviacion estandar del error\n",
        "        - número de promedio en el conjunto de prueba/validacion\n",
        "    \"\"\"\n",
        "    # se usa la función para implementar la estrategia de validación.\n",
        "    # asgine el valor acorde\n",
        "    kfolds = KFold(n_splits=3, shuffle=True, random_state=0)\n",
        "    resultados = pd.DataFrame()\n",
        "    idx = 0\n",
        "    # iteramos sobre los valores de hs\n",
        "\n",
        "    for h in hs:\n",
        "\n",
        "        #contador para cada particion\n",
        "        particion = 0\n",
        "        # asigne el valor al parametro X\n",
        "        for train, test in kfolds.split(X):\n",
        "\n",
        "            # como usar train y test ?\n",
        "            Xtrain = X[train, :]\n",
        "            Ytrain = Y[train]\n",
        "            Xtest = X[test, :]\n",
        "            Ytest = Y[test]\n",
        "            #normalizamos los datos\n",
        "            scaler = StandardScaler()\n",
        "            scaler.fit(Xtrain)\n",
        "            Xtrain = scaler.transform(Xtrain)\n",
        "            Xtest = scaler.transform(Xtest)\n",
        "\n",
        "            Yest = Nadaraya_Watson(h, Xtrain, Ytrain, Xtest)\n",
        "            errorTest = MAPE(Yest, Ytest)\n",
        "\n",
        "\n",
        "            resultados.loc[idx,'ancho de ventana'] = h\n",
        "            resultados.loc[idx,'error de prueba'] = errorTest\n",
        "            resultados.loc[idx,'particion'] = particion\n",
        "            idx+=1\n",
        "            particion+=1\n",
        "    return (resultados)"
      ]
    },
    {
      "cell_type": "markdown",
      "metadata": {
        "id": "7tYthL82oHDs"
      },
      "source": [
        "**Registra tu solución en línea**"
      ]
    },
    {
      "cell_type": "code",
      "execution_count": 32,
      "metadata": {
        "id": "2QBtWkvjoHDs",
        "colab": {
          "base_uri": "https://localhost:8080/",
          "height": 128
        },
        "outputId": "e5e1bc29-fea4-4c72-9e04-b7e4ae956962"
      },
      "outputs": [
        {
          "output_type": "display_data",
          "data": {
            "text/plain": [
              "<IPython.core.display.HTML object>"
            ],
            "text/html": [
              "\n",
              "                    <b>T5 submitted.</b> <b><font color=\"blue\">your grade is 5</font></b> \n",
              "                    <p/><pre>----- grader message -------</pre>testing your code with random data points... <br/>\n",
              "<b>correct</b> ✅<pre>----------------------------</pre>\n",
              "                    <p/><p/>\n",
              "                    <div style=\"font-size:10px\"><b>SUBMISSION CODE</b> 8eElAWVz6JINjjDm3qGdVFtcdb91POeocq8slWO5wkHXkG4vPGI256jAS9bqwDJUGAuuAE9AqZ+mI+mV6Ag0In+Wq+BmOQyl0MijXH8R5mO/UHOUQ1BeYcXH00o25LdN0J+2ksHHDYFBGQdLhOmF3A==</div>\n",
              "                    "
            ]
          },
          "metadata": {}
        }
      ],
      "source": [
        "student.submit_task(namespace=globals(), task_id='T5');"
      ]
    },
    {
      "cell_type": "code",
      "execution_count": null,
      "metadata": {
        "colab": {
          "base_uri": "https://localhost:8080/"
        },
        "id": "sp-8Jg8oofFt",
        "outputId": "7eeaabc7-3004-4fd2-87b7-5f01fb6eb613"
      },
      "outputs": [
        {
          "output_type": "stream",
          "name": "stderr",
          "text": [
            "/tmp/ipython-input-1520327125.py:19: DeprecationWarning: Conversion of an array with ndim > 0 to a scalar is deprecated, and will error in future. Ensure you extract a single element from your array before performing this operation. (Deprecated NumPy 1.25.)\n",
            "  Yest[i] = numerator / (denominator + 1e-10)\n"
          ]
        }
      ],
      "source": [
        "# ejecute para ver los experimentos\n",
        "hs = [1,1.5 ,2.5, 5, 10]\n",
        "experimentos_parzen = experimentarParzen(hs, x,y)\n",
        "experimentos_parzen"
      ]
    },
    {
      "cell_type": "code",
      "execution_count": null,
      "metadata": {
        "id": "IveHnzWUy_XZ"
      },
      "outputs": [],
      "source": [
        "# para ver el mejor modelo\n",
        "# vamos a calcular el valor medio\n",
        "# Y order acorde y observamos\n",
        "# el primer valor\n",
        "(experimentos_parzen\n",
        " .groupby(['ancho de ventana'], as_index=False)['error en conjunto de prueba'].mean()\n",
        " .sort_values(by='error en conjunto de prueba', ascending = True)\n",
        " .head(1))"
      ]
    },
    {
      "cell_type": "code",
      "execution_count": 39,
      "metadata": {
        "cellView": "form",
        "id": "9IxHJrBbofFw"
      },
      "outputs": [],
      "source": [
        "#@title Pregunta Abierta\n",
        "#@markdown ¿En qué consiste el metodo Silverman bandwidth? Explique brevemente y en sus palabras\n",
        "respuesta = \"Es una regla simple para elegir automáticamente el \\\"ancho de ventana\\\" en la estimación de densidad con kernels. Ayuda a encontrar un valor de h que no sea ni muy grande ni muy pequeño, basándose en la dispersión de los datos.\" #@param {type:\"string\"}"
      ]
    },
    {
      "cell_type": "code",
      "execution_count": null,
      "metadata": {
        "id": "MdSuity4274g"
      },
      "outputs": [],
      "source": []
    }
  ],
  "metadata": {
    "colab": {
      "provenance": []
    },
    "kernelspec": {
      "display_name": "Python 3 (ipykernel)",
      "language": "python",
      "name": "python3"
    },
    "language_info": {
      "codemirror_mode": {
        "name": "ipython",
        "version": 3
      },
      "file_extension": ".py",
      "mimetype": "text/x-python",
      "name": "python",
      "nbconvert_exporter": "python",
      "pygments_lexer": "ipython3",
      "version": "3.9.15"
    },
    "widgets": {
      "application/vnd.jupyter.widget-state+json": {
        "5d4c4a56a7c9476ab229b6b09f504725": {
          "model_module": "@jupyter-widgets/controls",
          "model_name": "HBoxModel",
          "model_module_version": "1.5.0",
          "state": {
            "_dom_classes": [],
            "_model_module": "@jupyter-widgets/controls",
            "_model_module_version": "1.5.0",
            "_model_name": "HBoxModel",
            "_view_count": null,
            "_view_module": "@jupyter-widgets/controls",
            "_view_module_version": "1.5.0",
            "_view_name": "HBoxView",
            "box_style": "",
            "children": [
              "IPY_MODEL_f3c8378a65ff4496b495238c777019d2",
              "IPY_MODEL_4def5b9eadee4dfe990db6183abf94fd",
              "IPY_MODEL_ae638bb942cc4d63a368c740a120db5b",
              "IPY_MODEL_662a52c2add640f7a0c6fbd34146d34b"
            ],
            "layout": "IPY_MODEL_5c876d188a304a2a997578adc63e2ca8"
          }
        },
        "f3c8378a65ff4496b495238c777019d2": {
          "model_module": "@jupyter-widgets/controls",
          "model_name": "VBoxModel",
          "model_module_version": "1.5.0",
          "state": {
            "_dom_classes": [],
            "_model_module": "@jupyter-widgets/controls",
            "_model_module_version": "1.5.0",
            "_model_name": "VBoxModel",
            "_view_count": null,
            "_view_module": "@jupyter-widgets/controls",
            "_view_module_version": "1.5.0",
            "_view_name": "VBoxView",
            "box_style": "",
            "children": [
              "IPY_MODEL_276b6f8d53874741b23f7991bd548b4c",
              "IPY_MODEL_8d7b560b64304c069e299046a3b16ade"
            ],
            "layout": "IPY_MODEL_895094f0f48e47529f06496a4c542677"
          }
        },
        "4def5b9eadee4dfe990db6183abf94fd": {
          "model_module": "@jupyter-widgets/controls",
          "model_name": "ButtonModel",
          "model_module_version": "1.5.0",
          "state": {
            "_dom_classes": [
              "login_button"
            ],
            "_model_module": "@jupyter-widgets/controls",
            "_model_module_version": "1.5.0",
            "_model_name": "ButtonModel",
            "_view_count": null,
            "_view_module": "@jupyter-widgets/controls",
            "_view_module_version": "1.5.0",
            "_view_name": "ButtonView",
            "button_style": "",
            "description": "Login with email",
            "disabled": false,
            "icon": "",
            "layout": "IPY_MODEL_8ff3f50dde6d45aeb092e236204a6f37",
            "style": "IPY_MODEL_b91b60f1c7fa4249aa40fd9dc43d9db3",
            "tooltip": ""
          }
        },
        "ae638bb942cc4d63a368c740a120db5b": {
          "model_module": "@jupyter-widgets/controls",
          "model_name": "HTMLModel",
          "model_module_version": "1.5.0",
          "state": {
            "_dom_classes": [],
            "_model_module": "@jupyter-widgets/controls",
            "_model_module_version": "1.5.0",
            "_model_name": "HTMLModel",
            "_view_count": null,
            "_view_module": "@jupyter-widgets/controls",
            "_view_module_version": "1.5.0",
            "_view_name": "HTMLView",
            "description": "",
            "description_tooltip": null,
            "layout": "IPY_MODEL_d4323a53fa94470ba028c1c0a7b45103",
            "placeholder": "​",
            "style": "IPY_MODEL_5127199407834d5b926fae5dc0af6445",
            "value": "<center><big>or</big></center>"
          }
        },
        "662a52c2add640f7a0c6fbd34146d34b": {
          "model_module": "@jupyter-widgets/controls",
          "model_name": "ButtonModel",
          "model_module_version": "1.5.0",
          "state": {
            "_dom_classes": [
              "google_button"
            ],
            "_model_module": "@jupyter-widgets/controls",
            "_model_module_version": "1.5.0",
            "_model_name": "ButtonModel",
            "_view_count": null,
            "_view_module": "@jupyter-widgets/controls",
            "_view_module_version": "1.5.0",
            "_view_name": "ButtonView",
            "button_style": "",
            "description": "Login with Google",
            "disabled": false,
            "icon": "",
            "layout": "IPY_MODEL_8a537acb763c4737a9e568b203f74edd",
            "style": "IPY_MODEL_dc13d40c7ac548bcbcacc89f29b75076",
            "tooltip": ""
          }
        },
        "5c876d188a304a2a997578adc63e2ca8": {
          "model_module": "@jupyter-widgets/base",
          "model_name": "LayoutModel",
          "model_module_version": "1.2.0",
          "state": {
            "_model_module": "@jupyter-widgets/base",
            "_model_module_version": "1.2.0",
            "_model_name": "LayoutModel",
            "_view_count": null,
            "_view_module": "@jupyter-widgets/base",
            "_view_module_version": "1.2.0",
            "_view_name": "LayoutView",
            "align_content": null,
            "align_items": null,
            "align_self": null,
            "border": null,
            "bottom": null,
            "display": null,
            "flex": null,
            "flex_flow": null,
            "grid_area": null,
            "grid_auto_columns": null,
            "grid_auto_flow": null,
            "grid_auto_rows": null,
            "grid_column": null,
            "grid_gap": null,
            "grid_row": null,
            "grid_template_areas": null,
            "grid_template_columns": null,
            "grid_template_rows": null,
            "height": null,
            "justify_content": null,
            "justify_items": null,
            "left": null,
            "margin": null,
            "max_height": null,
            "max_width": null,
            "min_height": null,
            "min_width": null,
            "object_fit": null,
            "object_position": null,
            "order": null,
            "overflow": null,
            "overflow_x": null,
            "overflow_y": null,
            "padding": null,
            "right": null,
            "top": null,
            "visibility": null,
            "width": null
          }
        },
        "276b6f8d53874741b23f7991bd548b4c": {
          "model_module": "@jupyter-widgets/controls",
          "model_name": "TextModel",
          "model_module_version": "1.5.0",
          "state": {
            "_dom_classes": [],
            "_model_module": "@jupyter-widgets/controls",
            "_model_module_version": "1.5.0",
            "_model_name": "TextModel",
            "_view_count": null,
            "_view_module": "@jupyter-widgets/controls",
            "_view_module_version": "1.5.0",
            "_view_name": "TextView",
            "continuous_update": true,
            "description": "email",
            "description_tooltip": null,
            "disabled": false,
            "layout": "IPY_MODEL_e468f3f1e4124edc9a08933fcacf2c26",
            "placeholder": "​",
            "style": "IPY_MODEL_42aaa12ccd6041df80b6189ed965434a",
            "value": ""
          }
        },
        "8d7b560b64304c069e299046a3b16ade": {
          "model_module": "@jupyter-widgets/controls",
          "model_name": "PasswordModel",
          "model_module_version": "1.5.0",
          "state": {
            "_dom_classes": [],
            "_model_module": "@jupyter-widgets/controls",
            "_model_module_version": "1.5.0",
            "_model_name": "PasswordModel",
            "_view_count": null,
            "_view_module": "@jupyter-widgets/controls",
            "_view_module_version": "1.5.0",
            "_view_name": "PasswordView",
            "continuous_update": true,
            "description": "password",
            "description_tooltip": null,
            "disabled": false,
            "layout": "IPY_MODEL_ba176b01d31e42c48f8561de517c2334",
            "placeholder": "​",
            "style": "IPY_MODEL_5ab1df696cd14d8a94353fa41ad27091",
            "value": ""
          }
        },
        "895094f0f48e47529f06496a4c542677": {
          "model_module": "@jupyter-widgets/base",
          "model_name": "LayoutModel",
          "model_module_version": "1.2.0",
          "state": {
            "_model_module": "@jupyter-widgets/base",
            "_model_module_version": "1.2.0",
            "_model_name": "LayoutModel",
            "_view_count": null,
            "_view_module": "@jupyter-widgets/base",
            "_view_module_version": "1.2.0",
            "_view_name": "LayoutView",
            "align_content": null,
            "align_items": null,
            "align_self": null,
            "border": null,
            "bottom": null,
            "display": null,
            "flex": null,
            "flex_flow": null,
            "grid_area": null,
            "grid_auto_columns": null,
            "grid_auto_flow": null,
            "grid_auto_rows": null,
            "grid_column": null,
            "grid_gap": null,
            "grid_row": null,
            "grid_template_areas": null,
            "grid_template_columns": null,
            "grid_template_rows": null,
            "height": null,
            "justify_content": null,
            "justify_items": null,
            "left": null,
            "margin": null,
            "max_height": null,
            "max_width": null,
            "min_height": null,
            "min_width": null,
            "object_fit": null,
            "object_position": null,
            "order": null,
            "overflow": null,
            "overflow_x": null,
            "overflow_y": null,
            "padding": null,
            "right": null,
            "top": null,
            "visibility": null,
            "width": null
          }
        },
        "8ff3f50dde6d45aeb092e236204a6f37": {
          "model_module": "@jupyter-widgets/base",
          "model_name": "LayoutModel",
          "model_module_version": "1.2.0",
          "state": {
            "_model_module": "@jupyter-widgets/base",
            "_model_module_version": "1.2.0",
            "_model_name": "LayoutModel",
            "_view_count": null,
            "_view_module": "@jupyter-widgets/base",
            "_view_module_version": "1.2.0",
            "_view_name": "LayoutView",
            "align_content": null,
            "align_items": null,
            "align_self": null,
            "border": null,
            "bottom": null,
            "display": null,
            "flex": null,
            "flex_flow": null,
            "grid_area": null,
            "grid_auto_columns": null,
            "grid_auto_flow": null,
            "grid_auto_rows": null,
            "grid_column": null,
            "grid_gap": null,
            "grid_row": null,
            "grid_template_areas": null,
            "grid_template_columns": null,
            "grid_template_rows": null,
            "height": "53px",
            "justify_content": null,
            "justify_items": null,
            "left": null,
            "margin": null,
            "max_height": null,
            "max_width": null,
            "min_height": null,
            "min_width": null,
            "object_fit": null,
            "object_position": null,
            "order": null,
            "overflow": null,
            "overflow_x": null,
            "overflow_y": null,
            "padding": null,
            "right": null,
            "top": null,
            "visibility": null,
            "width": "150px"
          }
        },
        "b91b60f1c7fa4249aa40fd9dc43d9db3": {
          "model_module": "@jupyter-widgets/controls",
          "model_name": "ButtonStyleModel",
          "model_module_version": "1.5.0",
          "state": {
            "_model_module": "@jupyter-widgets/controls",
            "_model_module_version": "1.5.0",
            "_model_name": "ButtonStyleModel",
            "_view_count": null,
            "_view_module": "@jupyter-widgets/base",
            "_view_module_version": "1.2.0",
            "_view_name": "StyleView",
            "button_color": null,
            "font_weight": ""
          }
        },
        "d4323a53fa94470ba028c1c0a7b45103": {
          "model_module": "@jupyter-widgets/base",
          "model_name": "LayoutModel",
          "model_module_version": "1.2.0",
          "state": {
            "_model_module": "@jupyter-widgets/base",
            "_model_module_version": "1.2.0",
            "_model_name": "LayoutModel",
            "_view_count": null,
            "_view_module": "@jupyter-widgets/base",
            "_view_module_version": "1.2.0",
            "_view_name": "LayoutView",
            "align_content": null,
            "align_items": null,
            "align_self": null,
            "border": null,
            "bottom": null,
            "display": null,
            "flex": null,
            "flex_flow": null,
            "grid_area": null,
            "grid_auto_columns": null,
            "grid_auto_flow": null,
            "grid_auto_rows": null,
            "grid_column": null,
            "grid_gap": null,
            "grid_row": null,
            "grid_template_areas": null,
            "grid_template_columns": null,
            "grid_template_rows": null,
            "height": null,
            "justify_content": null,
            "justify_items": null,
            "left": null,
            "margin": null,
            "max_height": null,
            "max_width": null,
            "min_height": null,
            "min_width": null,
            "object_fit": null,
            "object_position": null,
            "order": null,
            "overflow": null,
            "overflow_x": null,
            "overflow_y": null,
            "padding": null,
            "right": null,
            "top": null,
            "visibility": null,
            "width": "100px"
          }
        },
        "5127199407834d5b926fae5dc0af6445": {
          "model_module": "@jupyter-widgets/controls",
          "model_name": "DescriptionStyleModel",
          "model_module_version": "1.5.0",
          "state": {
            "_model_module": "@jupyter-widgets/controls",
            "_model_module_version": "1.5.0",
            "_model_name": "DescriptionStyleModel",
            "_view_count": null,
            "_view_module": "@jupyter-widgets/base",
            "_view_module_version": "1.2.0",
            "_view_name": "StyleView",
            "description_width": ""
          }
        },
        "8a537acb763c4737a9e568b203f74edd": {
          "model_module": "@jupyter-widgets/base",
          "model_name": "LayoutModel",
          "model_module_version": "1.2.0",
          "state": {
            "_model_module": "@jupyter-widgets/base",
            "_model_module_version": "1.2.0",
            "_model_name": "LayoutModel",
            "_view_count": null,
            "_view_module": "@jupyter-widgets/base",
            "_view_module_version": "1.2.0",
            "_view_name": "LayoutView",
            "align_content": null,
            "align_items": null,
            "align_self": null,
            "border": null,
            "bottom": null,
            "display": null,
            "flex": null,
            "flex_flow": null,
            "grid_area": null,
            "grid_auto_columns": null,
            "grid_auto_flow": null,
            "grid_auto_rows": null,
            "grid_column": null,
            "grid_gap": null,
            "grid_row": null,
            "grid_template_areas": null,
            "grid_template_columns": null,
            "grid_template_rows": null,
            "height": "53px",
            "justify_content": null,
            "justify_items": null,
            "left": null,
            "margin": null,
            "max_height": null,
            "max_width": null,
            "min_height": null,
            "min_width": null,
            "object_fit": null,
            "object_position": null,
            "order": null,
            "overflow": null,
            "overflow_x": null,
            "overflow_y": null,
            "padding": null,
            "right": null,
            "top": null,
            "visibility": null,
            "width": "200px"
          }
        },
        "dc13d40c7ac548bcbcacc89f29b75076": {
          "model_module": "@jupyter-widgets/controls",
          "model_name": "ButtonStyleModel",
          "model_module_version": "1.5.0",
          "state": {
            "_model_module": "@jupyter-widgets/controls",
            "_model_module_version": "1.5.0",
            "_model_name": "ButtonStyleModel",
            "_view_count": null,
            "_view_module": "@jupyter-widgets/base",
            "_view_module_version": "1.2.0",
            "_view_name": "StyleView",
            "button_color": null,
            "font_weight": ""
          }
        },
        "e468f3f1e4124edc9a08933fcacf2c26": {
          "model_module": "@jupyter-widgets/base",
          "model_name": "LayoutModel",
          "model_module_version": "1.2.0",
          "state": {
            "_model_module": "@jupyter-widgets/base",
            "_model_module_version": "1.2.0",
            "_model_name": "LayoutModel",
            "_view_count": null,
            "_view_module": "@jupyter-widgets/base",
            "_view_module_version": "1.2.0",
            "_view_name": "LayoutView",
            "align_content": null,
            "align_items": null,
            "align_self": null,
            "border": null,
            "bottom": null,
            "display": null,
            "flex": null,
            "flex_flow": null,
            "grid_area": null,
            "grid_auto_columns": null,
            "grid_auto_flow": null,
            "grid_auto_rows": null,
            "grid_column": null,
            "grid_gap": null,
            "grid_row": null,
            "grid_template_areas": null,
            "grid_template_columns": null,
            "grid_template_rows": null,
            "height": "25px",
            "justify_content": null,
            "justify_items": null,
            "left": null,
            "margin": null,
            "max_height": null,
            "max_width": null,
            "min_height": null,
            "min_width": null,
            "object_fit": null,
            "object_position": null,
            "order": null,
            "overflow": null,
            "overflow_x": null,
            "overflow_y": null,
            "padding": null,
            "right": null,
            "top": null,
            "visibility": null,
            "width": "300px"
          }
        },
        "42aaa12ccd6041df80b6189ed965434a": {
          "model_module": "@jupyter-widgets/controls",
          "model_name": "DescriptionStyleModel",
          "model_module_version": "1.5.0",
          "state": {
            "_model_module": "@jupyter-widgets/controls",
            "_model_module_version": "1.5.0",
            "_model_name": "DescriptionStyleModel",
            "_view_count": null,
            "_view_module": "@jupyter-widgets/base",
            "_view_module_version": "1.2.0",
            "_view_name": "StyleView",
            "description_width": ""
          }
        },
        "ba176b01d31e42c48f8561de517c2334": {
          "model_module": "@jupyter-widgets/base",
          "model_name": "LayoutModel",
          "model_module_version": "1.2.0",
          "state": {
            "_model_module": "@jupyter-widgets/base",
            "_model_module_version": "1.2.0",
            "_model_name": "LayoutModel",
            "_view_count": null,
            "_view_module": "@jupyter-widgets/base",
            "_view_module_version": "1.2.0",
            "_view_name": "LayoutView",
            "align_content": null,
            "align_items": null,
            "align_self": null,
            "border": null,
            "bottom": null,
            "display": null,
            "flex": null,
            "flex_flow": null,
            "grid_area": null,
            "grid_auto_columns": null,
            "grid_auto_flow": null,
            "grid_auto_rows": null,
            "grid_column": null,
            "grid_gap": null,
            "grid_row": null,
            "grid_template_areas": null,
            "grid_template_columns": null,
            "grid_template_rows": null,
            "height": "24px",
            "justify_content": null,
            "justify_items": null,
            "left": null,
            "margin": null,
            "max_height": null,
            "max_width": null,
            "min_height": null,
            "min_width": null,
            "object_fit": null,
            "object_position": null,
            "order": null,
            "overflow": null,
            "overflow_x": null,
            "overflow_y": null,
            "padding": null,
            "right": null,
            "top": null,
            "visibility": null,
            "width": "300px"
          }
        },
        "5ab1df696cd14d8a94353fa41ad27091": {
          "model_module": "@jupyter-widgets/controls",
          "model_name": "DescriptionStyleModel",
          "model_module_version": "1.5.0",
          "state": {
            "_model_module": "@jupyter-widgets/controls",
            "_model_module_version": "1.5.0",
            "_model_name": "DescriptionStyleModel",
            "_view_count": null,
            "_view_module": "@jupyter-widgets/base",
            "_view_module_version": "1.2.0",
            "_view_name": "StyleView",
            "description_width": ""
          }
        }
      }
    }
  },
  "nbformat": 4,
  "nbformat_minor": 0
}